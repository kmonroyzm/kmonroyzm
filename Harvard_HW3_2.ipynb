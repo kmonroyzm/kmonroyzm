{
  "cells": [
    {
      "cell_type": "markdown",
      "metadata": {
        "id": "view-in-github",
        "colab_type": "text"
      },
      "source": [
        "<a href=\"https://colab.research.google.com/github/kmonroyzm/kmonroyzm/blob/main/Harvard_HW3_2.ipynb\" target=\"_parent\"><img src=\"https://colab.research.google.com/assets/colab-badge.svg\" alt=\"Open In Colab\"/></a>"
      ]
    },
    {
      "cell_type": "markdown",
      "metadata": {
        "id": "YWJ5DON1U0eK"
      },
      "source": [
        "# Using Python for Research Homework: Week 3, Case Study 2\n",
        "\n",
        "In this case study, we will find and plot the distribution of word frequencies for each translation of Hamlet.  Perhaps the distribution of word frequencies of Hamlet depends on the translation --- let's find out!"
      ]
    },
    {
      "cell_type": "code",
      "execution_count": null,
      "metadata": {
        "id": "ShZqAETfU0eP"
      },
      "outputs": [],
      "source": [
        "# DO NOT EDIT THIS CODE!\n",
        "import os\n",
        "import pandas as pd\n",
        "import numpy as np\n",
        "from collections import Counter\n",
        "\n",
        "def count_words_fast(text):\n",
        "    text = text.lower()\n",
        "    skips = [\".\", \",\", \";\", \":\", \"'\", '\"', \"\\n\", \"!\", \"?\", \"(\", \")\"]\n",
        "    for ch in skips:\n",
        "        text = text.replace(ch, \"\")\n",
        "    word_counts = Counter(text.split(\" \"))\n",
        "    return word_counts\n",
        "\n",
        "def word_stats(word_counts):\n",
        "    num_unique = len(word_counts)\n",
        "    counts = word_counts.values()\n",
        "    return (num_unique, counts)"
      ]
    },
    {
      "cell_type": "markdown",
      "metadata": {
        "id": "mZHpJ-7jU0eR"
      },
      "source": [
        "### Exercise 1\n",
        "\n",
        "In this case study, we will find and visualize summary statistics of the text of different translations of Hamlet. For this case study, functions `count_words_fast` and `word_stats` are already defined as in the Case 2 Videos (Videos 3.2.x).\n",
        "\n",
        "#### Instructions\n",
        "- Read in the data as a pandas dataframe using `pd.read_csv`. Use the `index_col` argument to set the first column in the csv file as the index for the dataframe. The data can be found at https://courses.edx.org/asset-v1:HarvardX+PH526x+2T2019+type@asset+block@hamlets.csv"
      ]
    },
    {
      "cell_type": "code",
      "execution_count": null,
      "metadata": {
        "colab": {
          "base_uri": "https://localhost:8080/"
        },
        "id": "YBZPAvBvU0eS",
        "outputId": "1c1d7f34-16f0-47ed-b83b-bcbcfc954ac6"
      },
      "outputs": [
        {
          "output_type": "stream",
          "name": "stdout",
          "text": [
            "Drive already mounted at /content/drive; to attempt to forcibly remount, call drive.mount(\"/content/drive\", force_remount=True).\n",
            "Número de traducciones de Hamlet: 3\n"
          ]
        }
      ],
      "source": [
        "from google.colab import drive\n",
        "drive.mount('/content/drive')\n",
        "import pandas as pd\n",
        "file_path = '/content/drive/MyDrive/Harvard/asset.csv'\n",
        "hamlets = pd.read_csv(file_path, index_col=0)\n",
        "num_translations = len(hamlets)\n",
        "\n",
        "print(\"Número de traducciones de Hamlet:\", num_translations)"
      ]
    },
    {
      "cell_type": "markdown",
      "metadata": {
        "id": "Xro1aD8EU0eT"
      },
      "source": [
        "### Exercise 2\n",
        "\n",
        "In this exercise, we will summarize the text for a single translation of Hamlet in a `pandas` dataframe.\n",
        "\n",
        "#### Instructions\n",
        "- Find the dictionary of word frequency in `text` by calling `count_words_fast()`. Store this as `counted_text`.\n",
        "- Create a `pandas` dataframe named `data`.\n",
        "- Using `counted_text`, define two columns in data:\n",
        "    - `word`, consisting of each unique word in text.\n",
        "    - `count`, consisting of the number of times each word in `word` is included in the text."
      ]
    },
    {
      "cell_type": "code",
      "execution_count": null,
      "metadata": {
        "colab": {
          "base_uri": "https://localhost:8080/"
        },
        "id": "HPNWTsIgU0eT",
        "outputId": "07b6a917-610f-4df6-85cd-7da0e862fee5"
      },
      "outputs": [
        {
          "output_type": "stream",
          "name": "stdout",
          "text": [
            "       word  count\n",
            "0       the    935\n",
            "1  tragedie      3\n",
            "2        of    576\n",
            "3    hamlet     97\n",
            "4            45513\n",
            "Número de veces que aparece la palabra 'Hamlet': 97\n"
          ]
        }
      ],
      "source": [
        "import pandas as pd\n",
        "from collections import Counter\n",
        "language, text = hamlets.iloc[0]\n",
        "counted_text = count_words_fast(text)\n",
        "data = pd.DataFrame({\n",
        "    'word': list(counted_text.keys()),\n",
        "    'count': list(counted_text.values())\n",
        "})\n",
        "print(data.head())\n",
        "\n",
        "# Enter your code here.\n",
        "# Obtener el texto de la primera traducción de Hamlet\n",
        "language, text = hamlets.iloc[0]\n",
        "\n",
        "# Calcular la frecuencia de palabras usando count_words_fast()\n",
        "counted_text = count_words_fast(text)\n",
        "\n",
        "# Obtener el número de veces que aparece la palabra \"Hamlet\"\n",
        "num_hamlet = counted_text.get(\"hamlet\", 0)  # Si \"hamlet\" no está presente, devuelve 0\n",
        "\n",
        "print(\"Número de veces que aparece la palabra 'Hamlet':\", num_hamlet)"
      ]
    },
    {
      "cell_type": "markdown",
      "metadata": {
        "id": "MH5y0087U0eU"
      },
      "source": [
        "### Exercise 3\n",
        "\n",
        "In this exercise, we will continue to define summary statistics for a single translation of Hamlet.\n",
        "\n",
        "#### Instructions\n",
        "- Add a column to data named `length`, defined as the length of each word.\n",
        "- Add another column named `frequency`, which is defined as follows for each word in `data`:\n",
        "    - If `count > 10`, `frequency` is \"frequent\".\n",
        "    - If `1 < count <= 10`, `frequency` is \"infrequent\".\n",
        "    - If `count == 1`, `frequency` is \"unique\"."
      ]
    },
    {
      "cell_type": "code",
      "execution_count": null,
      "metadata": {
        "colab": {
          "base_uri": "https://localhost:8080/"
        },
        "id": "rhrhCGz7U0eU",
        "outputId": "9c06bd14-37a5-495a-9206-2d21e5e1aef9"
      },
      "outputs": [
        {
          "output_type": "stream",
          "name": "stdout",
          "text": [
            "Número de palabras únicas en el texto: 3348\n"
          ]
        }
      ],
      "source": [
        "# write your code here!\n",
        "import pandas as pd\n",
        "from collections import Counter\n",
        "\n",
        "# Suponiendo que 'hamlets' es tu DataFrame que contiene las traducciones de Hamlet\n",
        "# y 'count_words_fast' es la función que cuenta las palabras rápidamente.\n",
        "\n",
        "# Obtener el texto de la primera traducción de Hamlet\n",
        "language, text = hamlets.iloc[0]\n",
        "\n",
        "# Calcular la frecuencia de palabras usando count_words_fast()\n",
        "counted_text = count_words_fast(text)\n",
        "\n",
        "# Crear un DataFrame 'data' a partir del diccionario de frecuencia de palabras\n",
        "data = pd.DataFrame({\n",
        "    'word': list(counted_text.keys()),\n",
        "    'count': list(counted_text.values())\n",
        "})\n",
        "\n",
        "# Agregar la columna de longitud ('length')\n",
        "data['length'] = data['word'].apply(len)\n",
        "\n",
        "# Agregar la columna de frecuencia ('frequency')\n",
        "def categorize_frequency(count):\n",
        "    if count > 10:\n",
        "        return \"frequent\"\n",
        "    elif count > 1:\n",
        "        return \"infrequent\"\n",
        "    else:\n",
        "        return \"unique\"\n",
        "\n",
        "data['frequency'] = data['count'].apply(categorize_frequency)\n",
        "\n",
        "# Contar las palabras únicas (count == 1)\n",
        "num_unique_words = len(data[data['frequency'] == 'unique'])\n",
        "\n",
        "print(\"Número de palabras únicas en el texto:\", num_unique_words)"
      ]
    },
    {
      "cell_type": "markdown",
      "metadata": {
        "id": "nRBc_sWGU0eV"
      },
      "source": [
        "### Exercise 4\n",
        "\n",
        "In this exercise, we will summarize the statistics in data into a smaller pandas dataframe.\n",
        "\n",
        "#### Instructions\n",
        "- Create a `pandas` dataframe named `sub_data` including the following columns:\n",
        "    - `language`, which is the language of the text (defined in Exercise 2).\n",
        "    - `frequency`, which is a list containing the strings \"frequent\", \"infrequent\", and \"unique\".\n",
        "    - `mean_word_length`, which is the mean word length of each value in frequency.\n",
        "    - `num_words`, which is the total number of words in each frequency category."
      ]
    },
    {
      "cell_type": "code",
      "execution_count": null,
      "metadata": {
        "colab": {
          "base_uri": "https://localhost:8080/"
        },
        "id": "kSTeGQu4U0eW",
        "outputId": "85f606ae-9867-4232-fcb0-f678ef13a330"
      },
      "outputs": [
        {
          "output_type": "stream",
          "name": "stdout",
          "text": [
            "Promedio de longitud de palabra de las palabras infrecuentes: 5.825242718446602\n",
            "  language   frequency  mean_word_length  num_words\n",
            "0  English    frequent          4.371517      65628\n",
            "1  English  infrequent          5.825243       5060\n",
            "2  English      unique          7.005675       3348\n"
          ]
        }
      ],
      "source": [
        "# write your code here!\n",
        "\n",
        "import pandas as pd\n",
        "from collections import Counter\n",
        "\n",
        "# Suponiendo que 'hamlets' es tu DataFrame que contiene las traducciones de Hamlet\n",
        "# y 'count_words_fast' es la función que cuenta las palabras rápidamente.\n",
        "\n",
        "# Obtener el texto y el idioma de la primera traducción de Hamlet\n",
        "language, text = hamlets.iloc[0]\n",
        "\n",
        "# Calcular la frecuencia de palabras usando count_words_fast()\n",
        "counted_text = count_words_fast(text)\n",
        "\n",
        "# Crear un DataFrame 'data' a partir del diccionario de frecuencia de palabras\n",
        "data = pd.DataFrame({\n",
        "    'word': list(counted_text.keys()),\n",
        "    'count': list(counted_text.values())\n",
        "})\n",
        "\n",
        "# Agregar la columna de longitud ('length')\n",
        "data['length'] = data['word'].apply(len)\n",
        "\n",
        "# Agregar la columna de frecuencia ('frequency')\n",
        "def categorize_frequency(count):\n",
        "    if count > 10:\n",
        "        return \"frequent\"\n",
        "    elif count > 1:\n",
        "        return \"infrequent\"\n",
        "    else:\n",
        "        return \"unique\"\n",
        "\n",
        "data['frequency'] = data['count'].apply(categorize_frequency)\n",
        "\n",
        "# Agrupar por frecuencia y calcular estadísticas\n",
        "grouped_data = data.groupby('frequency').agg({\n",
        "    'length': 'mean',    # Promedio de longitud de palabra\n",
        "    'count': 'sum'       # Total de palabras\n",
        "}).reset_index()\n",
        "\n",
        "# Renombrar columnas para que coincidan con las instrucciones\n",
        "grouped_data.rename(columns={'length': 'mean_word_length', 'count': 'num_words'}, inplace=True)\n",
        "\n",
        "# Añadir la columna de idioma\n",
        "grouped_data['language'] = language\n",
        "\n",
        "# Reordenar las columnas para que coincidan con las instrucciones\n",
        "sub_data = grouped_data[['language', 'frequency', 'mean_word_length', 'num_words']]\n",
        "\n",
        "# Calcular el promedio de longitud de palabra de las palabras infrecuentes\n",
        "average_word_length_infrequent = sub_data.loc[sub_data['frequency'] == 'infrequent', 'mean_word_length'].values[0]\n",
        "\n",
        "print(\"Promedio de longitud de palabra de las palabras infrecuentes:\", average_word_length_infrequent)\n",
        "print(sub_data)"
      ]
    },
    {
      "cell_type": "markdown",
      "metadata": {
        "id": "V_rIFb9rU0eX"
      },
      "source": [
        "### Exercise 5\n",
        "\n",
        "In this exercise, we will join all the data summaries for text Hamlet translation.\n",
        "\n",
        "#### Instructions\n",
        "- The previous code for summarizing a particular translation of Hamlet is consolidated into a single function called `summarize_text`. Create a pandas dataframe` grouped_data` consisting of the results of `summarize_text` for each translation of Hamlet in `hamlets`.\n",
        "    - Use a `for` loop across the row indices of `hamlets` to assign each translation to a new row.\n",
        "    - Obtain the `ith` row of `hamlets` to variables using the `.iloc` method, and assign the output to variables `language` and `text`.\n",
        "    - Call `summarize_text` using `language` and `text`, and assign the output to `sub_data`.\n",
        "    - Use the pandas `.append()` function to append to pandas dataframes row-wise to `grouped_data`."
      ]
    },
    {
      "cell_type": "code",
      "execution_count": null,
      "metadata": {
        "colab": {
          "base_uri": "https://localhost:8080/"
        },
        "id": "lNSVOqnGU0eX",
        "outputId": "b393603a-aa7b-4daf-a74b-24dc5c719732"
      },
      "outputs": [
        {
          "output_type": "stream",
          "name": "stdout",
          "text": [
            "Promedio de longitud de palabra de las palabras frecuentes en la traducción alemana: 4.528052805280528\n",
            "Número de palabras frecuentes en la traducción portuguesa: 261\n"
          ]
        }
      ],
      "source": [
        "def summarize_text(language, text):\n",
        "    counted_text = count_words_fast(text)\n",
        "\n",
        "    data = pd.DataFrame({\n",
        "        \"word\": list(counted_text.keys()),\n",
        "        \"count\": list(counted_text.values())\n",
        "    })\n",
        "\n",
        "    data.loc[data[\"count\"] > 10,  \"frequency\"] = \"frequent\"\n",
        "    data.loc[data[\"count\"] <= 10, \"frequency\"] = \"infrequent\"\n",
        "    data.loc[data[\"count\"] == 1,  \"frequency\"] = \"unique\"\n",
        "\n",
        "    data[\"length\"] = data[\"word\"].apply(len)\n",
        "\n",
        "    sub_data = pd.DataFrame({\n",
        "        \"language\": language,\n",
        "        \"frequency\": [\"frequent\",\"infrequent\",\"unique\"],\n",
        "        \"mean_word_length\": data.groupby(by = \"frequency\")[\"length\"].mean(),\n",
        "        \"num_words\": data.groupby(by = \"frequency\").size()\n",
        "    })\n",
        "\n",
        "    return(sub_data)\n",
        "\n",
        "# write your code here!\n",
        "# Creamos un DataFrame vacío para acumular los resultados\n",
        "grouped_data = pd.DataFrame(columns=[\"language\", \"frequency\", \"mean_word_length\", \"num_words\"])\n",
        "\n",
        "# Iteramos sobre cada fila de 'hamlets' para resumir cada traducción\n",
        "for i in range(len(hamlets)):\n",
        "    language, text = hamlets.iloc[i]  # Obtener idioma y texto\n",
        "    sub_data = summarize_text(language, text)  # Resumir la traducción\n",
        "    grouped_data = pd.concat([grouped_data, sub_data], ignore_index=True)  # Concatenar los resultados\n",
        "\n",
        "# Pregunta 1: Promedio de longitud de palabra de las palabras frecuentes en la traducción alemana\n",
        "average_word_length_frequent_german = grouped_data.loc[\n",
        "    (grouped_data['language'] == 'German') & (grouped_data['frequency'] == 'frequent'),\n",
        "    'mean_word_length'\n",
        "].values[0]\n",
        "\n",
        "print(\"Promedio de longitud de palabra de las palabras frecuentes en la traducción alemana:\", average_word_length_frequent_german)\n",
        "\n",
        "# Pregunta 2: Número de palabras frecuentes en la traducción portuguesa\n",
        "num_frequent_words_portuguese = grouped_data.loc[\n",
        "    (grouped_data['language'] == 'Portuguese') & (grouped_data['frequency'] == 'frequent'),\n",
        "    'num_words'\n",
        "].values[0]\n",
        "print(\"Número de palabras frecuentes en la traducción portuguesa:\", num_frequent_words_portuguese)"
      ]
    },
    {
      "cell_type": "markdown",
      "metadata": {
        "id": "c-q8SeHPU0eY"
      },
      "source": [
        "### Exercise 6\n",
        "\n",
        "In this exercise, we will plot our results and look for differences across each translation.\n",
        "\n",
        "#### Instructions\n",
        "- Plot the word statistics of each translations on a single plot. Note that we have already done most of the work for you.\n",
        "- Consider: do the word statistics differ by translation?"
      ]
    },
    {
      "cell_type": "code",
      "execution_count": null,
      "metadata": {
        "id": "2W6poOYUU0eY",
        "colab": {
          "base_uri": "https://localhost:8080/",
          "height": 466
        },
        "outputId": "0f01b633-f1ae-4e4d-e936-cea52f6bd8e6"
      },
      "outputs": [
        {
          "output_type": "execute_result",
          "data": {
            "text/plain": [
              "Text(0, 0.5, 'Number of Words')"
            ]
          },
          "metadata": {},
          "execution_count": 22
        },
        {
          "output_type": "display_data",
          "data": {
            "text/plain": [
              "<Figure size 640x480 with 1 Axes>"
            ],
            "image/png": "[encoded data removed]"
          },
          "metadata": {}
        }
      ],
      "source": [
        "colors = {\"Portuguese\": \"green\", \"English\": \"blue\", \"German\": \"red\"}\n",
        "markers = {\"frequent\": \"o\",\"infrequent\": \"s\", \"unique\": \"^\"}\n",
        "import matplotlib.pyplot as plt\n",
        "for i in range(grouped_data.shape[0]):\n",
        "    row = grouped_data.iloc[i]\n",
        "    plt.plot(row.mean_word_length, row.num_words,\n",
        "        marker=markers[row.frequency],\n",
        "        color = colors[row.language],\n",
        "        markersize = 10\n",
        "    )\n",
        "\n",
        "color_legend = []\n",
        "marker_legend = []\n",
        "for color in colors:\n",
        "    color_legend.append(\n",
        "        plt.plot([], [],\n",
        "        color=colors[color],\n",
        "        marker=\"o\",\n",
        "        label = color, markersize = 10, linestyle=\"None\")\n",
        "    )\n",
        "for marker in markers:\n",
        "    marker_legend.append(\n",
        "        plt.plot([], [],\n",
        "        color=\"k\",\n",
        "        marker=markers[marker],\n",
        "        label = marker, markersize = 10, linestyle=\"None\")\n",
        "    )\n",
        "plt.legend(numpoints=1, loc = \"upper left\")\n",
        "\n",
        "plt.xlabel(\"Mean Word Length\")\n",
        "plt.ylabel(\"Number of Words\")\n",
        "# write your code to display the plot here!"
      ]
    }
  ],
  "metadata": {
    "kernelspec": {
      "display_name": "BST263",
      "language": "python",
      "name": "myenv"
    },
    "language_info": {
      "codemirror_mode": {
        "name": "ipython",
        "version": 3
      },
      "file_extension": ".py",
      "mimetype": "text/x-python",
      "name": "python",
      "nbconvert_exporter": "python",
      "pygments_lexer": "ipython3",
      "version": "3.8.1"
    },
    "toc": {
      "base_numbering": 1,
      "nav_menu": {},
      "number_sections": true,
      "sideBar": true,
      "skip_h1_title": false,
      "title_cell": "Table of Contents",
      "title_sidebar": "Contents",
      "toc_cell": false,
      "toc_position": {},
      "toc_section_display": true,
      "toc_window_display": false
    },
    "colab": {
      "provenance": [],
      "include_colab_link": true
    }
  },
  "nbformat": 4,
  "nbformat_minor": 0
}