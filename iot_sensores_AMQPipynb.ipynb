{
  "cells": [
    {
      "cell_type": "markdown",
      "metadata": {
        "id": "view-in-github",
        "colab_type": "text"
      },
      "source": [
        "<a href=\"https://colab.research.google.com/github/kmonroyzm/kmonroyzm/blob/main/iot_sensores_AMQPipynb.ipynb\" target=\"_parent\"><img src=\"https://colab.research.google.com/assets/colab-badge.svg\" alt=\"Open In Colab\"/></a>"
      ]
    },
    {
      "cell_type": "code",
      "execution_count": null,
      "metadata": {
        "colab": {
          "background_save": true,
          "base_uri": "https://localhost:8080/"
        },
        "id": "HLwATY_EaLVn",
        "outputId": "e8680c3e-3521-4f5b-a139-2a059e521671"
      },
      "outputs": [
        {
          "name": "stdout",
          "output_type": "stream",
          "text": [
            "Requirement already satisfied: pika in /usr/local/lib/python3.10/dist-packages (1.3.2)\n",
            "Enviando : Krista: [2024-03-17 14:53:01] Hola, Francisco\n"
          ]
        }
      ],
      "source": [
        "#Productor\n",
        "\n",
        "!pip install pika\n",
        "import pika\n",
        "import os\n",
        "from datetime import datetime\n",
        "\n",
        "broker='amqp://ec2-54-197-207-143.compute-1.amazonaws.com:5672'\n",
        "\n",
        "url = os.environ.get('CLOUDAMQP_URL', broker)\n",
        "params = pika.URLParameters(url)\n",
        "connect = pika.BlockingConnection(params)\n",
        "channel = connect.channel()\n",
        "#ahora declaramos la cola o queue\n",
        "cola=\"Krista\"\n",
        "channel.queue_declare(queue=cola)\n",
        "\n",
        "msg=input(\"Escribe tu mensaje: \")\n",
        "fecha=datetime.now().strftime(\"%Y-%m-%d %H:%M:%S\")\n",
        "mensaje= cola + \":\" + \" [\" + fecha + \"] \" + msg\n",
        "try:\n",
        "    while msg != \".\" :\n",
        "        channel.basic_publish(exchange='',routing_key=cola,body=mensaje)\n",
        "        print(\"Enviando :\",mensaje)\n",
        "        msg=input(\"Escribe tu mensaje: \")\n",
        "        fecha=datetime.now().strftime(\"%Y-%m-%d %H:%M:%S\")\n",
        "        mensaje= cola + \":\" + \" [\" + fecha + \"] \" + msg\n",
        "except KeyboardInterrupt: #cuando presionas Ctrl + C\n",
        "    print(\"Envío de datos detenido por el usuario\")\n",
        "    connect.close()"
      ]
    }
  ],
  "metadata": {
    "colab": {
      "provenance": [],
      "authorship_tag": "ABX9TyMC6TvGN8+vYNSs5Uaw2ood",
      "include_colab_link": true
    },
    "kernelspec": {
      "display_name": "Python 3",
      "name": "python3"
    },
    "language_info": {
      "name": "python"
    }
  },
  "nbformat": 4,
  "nbformat_minor": 0
}