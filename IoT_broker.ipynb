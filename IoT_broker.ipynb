{
  "cells": [
    {
      "cell_type": "markdown",
      "metadata": {
        "id": "view-in-github",
        "colab_type": "text"
      },
      "source": [
        "<a href=\"https://colab.research.google.com/github/kmonroyzm/kmonroyzm/blob/main/IoT_broker.ipynb\" target=\"_parent\"><img src=\"https://colab.research.google.com/assets/colab-badge.svg\" alt=\"Open In Colab\"/></a>"
      ]
    },
    {
      "cell_type": "markdown",
      "metadata": {
        "id": "dbrCtNLflEfJ"
      },
      "source": [
        "# Usando un broker local\n",
        "Para esto se requiere tener una instancia de AMQP instalada en el equipo, esto puede hacerse mediante un contenedor de Docker o instalando la aplicación de [RabbitMQ](https://www.rabbitmq.com/docs/install-windows)"
      ]
    },
    {
      "cell_type": "code",
      "execution_count": null,
      "metadata": {
        "id": "hpMVUEG8lEfR"
      },
      "outputs": [],
      "source": [
        "import pika\n",
        "\n",
        "def receptor():\n",
        "    connection = pika.BlockingConnection(pika.ConnectionParameters(host='localhost')) #para establecer conexión\n",
        "    channel = connection.channel()\n",
        "    #ahora declaramos la cola o queue que vamos a 'consumir'\n",
        "    cola=\"local\"\n",
        "    channel.queue_declare(queue=cola)\n",
        "\n",
        "    def callback(ch, method, properties, body):\n",
        "        print(\"Mensaje recibido %r\" % body.decode())\n",
        "\n",
        "    channel.basic_consume(queue=cola,on_message_callback=callback)\n",
        "    channel.start_consuming()\n",
        "\n",
        "try:\n",
        "    receptor()\n",
        "except KeyboardInterrupt: #cuando presionas Ctrl + C\n",
        "    print(\"Recepción de datos detenida por el usuario\")"
      ]
    },
    {
      "cell_type": "markdown",
      "metadata": {
        "id": "lPta4cXklEfS"
      },
      "source": [
        "# Usando un broker público"
      ]
    },
    {
      "cell_type": "code",
      "execution_count": null,
      "metadata": {
        "id": "lNdIhiVHlEfT"
      },
      "outputs": [],
      "source": [
        "import pika,os\n",
        "\n",
        "broker='amqp://10.48.60.51:5672'\n",
        "\n",
        "def receptor():\n",
        "    url = os.environ.get('CLOUDAMQP_URL', broker)\n",
        "    params = pika.URLParameters(url)\n",
        "    connection = pika.BlockingConnection(params)\n",
        "    channel = connection.channel()\n",
        "    #ahora declaramos la cola o queue que vamos a 'consumir'\n",
        "    cola=\"TE4017\"\n",
        "    channel.queue_declare(queue=cola)\n",
        "    print(\"En espera de mensajes\")\n",
        "\n",
        "    def callback(ch, method, properties, body):\n",
        "        print(\"Mensaje recibido %r\" % body.decode())\n",
        "\n",
        "    channel.basic_consume(queue=cola,on_message_callback=callback)\n",
        "    channel.start_consuming()\n",
        "\n",
        "try:\n",
        "    receptor()\n",
        "except KeyboardInterrupt: #cuando presionas Ctrl + C\n",
        "    print(\"Recepción de datos detenida por el usuario\")"
      ]
    },
    {
      "cell_type": "markdown",
      "metadata": {
        "id": "5NCkfxfQlEfT"
      },
      "source": [
        "# Colas múltiples"
      ]
    },
    {
      "cell_type": "code",
      "execution_count": null,
      "metadata": {
        "colab": {
          "base_uri": "https://localhost:8080/"
        },
        "id": "1sgmXDbdlEfT",
        "scrolled": false,
        "outputId": "9b0367af-2347-4b6a-c398-fab638fa4f22"
      },
      "outputs": [
        {
          "output_type": "stream",
          "name": "stdout",
          "text": [
            "Requirement already satisfied: pika in /usr/local/lib/python3.10/dist-packages (1.3.2)\n",
            "En espera de mensajes\n",
            "Mensaje recibido 'Omar: [2024-03-17 08:17:09] Buenos dias'\n",
            "Mensaje recibido 'Omar: [2024-03-17 08:18:09] Hola1'\n",
            "Mensaje recibido 'Omar: [2024-03-17 08:30:11] Prueba1'\n",
            "Mensaje recibido 'Omar: [2024-03-17 08:40:07] Prueba de Omar'\n",
            "Mensaje recibido 'Olga: [2024-03-17 08:19:50] Mensaje 3'\n",
            "Mensaje recibido 'Olga: [2024-03-17 08:20:05] Mensaje 4'\n",
            "Mensaje recibido 'Olga: [2024-03-17 08:20:11] Mensaje 5'\n",
            "Mensaje recibido 'Olga: [2024-03-17 08:20:20] Mensaje 6'\n",
            "Mensaje recibido 'Olga: [2024-03-17 08:24:38] Hola, Omar'\n",
            "Mensaje recibido 'Olga: [2024-03-17 08:41:53] '\n",
            "Mensaje recibido 'Olga: [2024-03-17 08:44:12] Hola, Krista'\n",
            "Mensaje recibido 'Krista: [2024-03-17 14:17:09] Hola, equipo'\n",
            "Mensaje recibido 'Krista: [2024-03-17 14:18:57] Hola, equipo'\n",
            "Mensaje recibido 'Krista: [2024-03-17 14:24:47] Hola'\n",
            "Mensaje recibido 'Krista: [2024-03-17 14:24:57] Buen día equipo 13'\n",
            "Mensaje recibido 'Krista: [2024-03-17 14:44:50] Hola, equipo'\n",
            "Mensaje recibido 'Francisco: [2024-03-17 08:26:14] holis, si te llego?'\n",
            "Mensaje recibido 'Francisco: [2024-03-17 08:26:32] okis'\n",
            "Mensaje recibido 'Alejandro: [2024-03-17 14:17:14] Mensaje 1'\n",
            "Mensaje recibido 'Alejandro: [2024-03-17 14:18:26] Mensaje 2'\n",
            "Mensaje recibido 'Alejandro: [2024-03-17 14:18:29] Mensaje 3'\n",
            "Mensaje recibido 'Alejandro: [2024-03-17 14:18:32] Mensaje 4'\n",
            "Mensaje recibido 'Alejandro: [2024-03-17 14:18:35] Mensaje 5'\n",
            "Mensaje recibido 'Alejandro: [2024-03-17 14:18:38] Mensaje 6'\n",
            "Mensaje recibido 'Alejandro: [2024-03-17 14:18:41] Mensaje 7'\n",
            "Mensaje recibido 'Alejandro: [2024-03-17 14:18:44] Mensaje 8'\n",
            "Mensaje recibido 'Alejandro: [2024-03-17 14:18:46] Mensaje 9'\n",
            "Mensaje recibido 'Alejandro: [2024-03-17 14:18:50] Mensaje 10'\n",
            "Mensaje recibido 'Alejandro: [2024-03-17 14:24:11] Mensaje 1'\n",
            "Mensaje recibido 'Alejandro: [2024-03-17 14:24:54] Mensaje 2'\n",
            "Mensaje recibido 'Alejandro: [2024-03-17 14:24:57] Mensaje 3'\n",
            "Mensaje recibido 'Alejandro: [2024-03-17 14:41:32] Mensaje de prueba en vivo'\n",
            "Mensaje recibido 'Alejandro: [2024-03-17 14:44:56] Hola Krista'\n",
            "Mensaje recibido 'Alejandro: [2024-03-17 14:45:19] Hola Krista'\n",
            "Recepción de datos detenida por el usuario\n"
          ]
        }
      ],
      "source": [
        "!pip install pika\n",
        "import pika,os\n",
        "\n",
        "broker = 'amqp://ec2-54-197-207-143.compute-1.amazonaws.com:5672'\n",
        "\n",
        "def receptor():\n",
        "    url = os.environ.get('CLOUDAMQP_URL', broker)\n",
        "    params = pika.URLParameters(url)\n",
        "    connection = pika.BlockingConnection(params)\n",
        "    channel = connection.channel()\n",
        "    #ahora declaramos la cola o queue que vamos a 'consumir'\n",
        "    colas=[\"Alejandro\", \"Francisco\", \"Krista\", \"Olga\", \"Omar\"]\n",
        "    for i in colas:\n",
        "        channel.queue_declare(queue=i)\n",
        "\n",
        "    print(\"En espera de mensajes\")\n",
        "    def callback(ch, method, properties, body):\n",
        "        print(\"Mensaje recibido %r\" % body.decode())\n",
        "\n",
        "    for j in colas:\n",
        "        channel.basic_consume(queue=j,on_message_callback=callback)\n",
        "\n",
        "    channel.start_consuming()\n",
        "\n",
        "try:\n",
        "    receptor()\n",
        "except KeyboardInterrupt: #cuando presionas Ctrl + C\n",
        "    print(\"Recepción de datos detenida por el usuario\")"
      ]
    },
    {
      "cell_type": "code",
      "execution_count": null,
      "metadata": {
        "id": "puMsO-splEfU"
      },
      "outputs": [],
      "source": []
    }
  ],
  "metadata": {
    "colab": {
      "provenance": [],
      "include_colab_link": true
    },
    "kernelspec": {
      "display_name": "Python 3 (ipykernel)",
      "language": "python",
      "name": "python3"
    },
    "language_info": {
      "codemirror_mode": {
        "name": "ipython",
        "version": 3
      },
      "file_extension": ".py",
      "mimetype": "text/x-python",
      "name": "python",
      "nbconvert_exporter": "python",
      "pygments_lexer": "ipython3",
      "version": "3.11.5"
    },
    "vscode": {
      "interpreter": {
        "hash": "76080cc002e9d85606df616fc7234b9ca5f3ef72eb9802833df3b0586be1af89"
      }
    }
  },
  "nbformat": 4,
  "nbformat_minor": 0
}