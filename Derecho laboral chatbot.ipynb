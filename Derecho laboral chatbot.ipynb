{
  "nbformat": 4,
  "nbformat_minor": 0,
  "metadata": {
    "colab": {
      "provenance": [],
      "authorship_tag": "ABX9TyObw79ID8N0nZIj+vrw4WqO",
      "include_colab_link": true
    },
    "kernelspec": {
      "name": "python3",
      "display_name": "Python 3"
    },
    "language_info": {
      "name": "python"
    }
  },
  "cells": [
    {
      "cell_type": "markdown",
      "metadata": {
        "id": "view-in-github",
        "colab_type": "text"
      },
      "source": [
        "<a href=\"https://colab.research.google.com/github/kmonroyzm/kmonroyzm/blob/main/Derecho%20laboral%20chatbot.ipynb\" target=\"_parent\"><img src=\"https://colab.research.google.com/assets/colab-badge.svg\" alt=\"Open In Colab\"/></a>"
      ]
    },
    {
      "cell_type": "code",
      "execution_count": 1,
      "metadata": {
        "id": "5WrGpPDCsoDl"
      },
      "outputs": [],
      "source": [
        "#Prototipo de chatbot en derecho laboral"
      ]
    },
    {
      "cell_type": "code",
      "execution_count": 2,
      "metadata": {
        "id": "q-3ar1eDNk5b"
      },
      "outputs": [],
      "source": [
        "import nltk\n",
        "from nltk.chat.util import Chat, reflections\n",
        "\n"
      ]
    },
    {
      "cell_type": "code",
      "execution_count": null,
      "metadata": {
        "colab": {
          "base_uri": "https://localhost:8080/"
        },
        "id": "f3Aty4eZQqKd",
        "outputId": "f67505ea-c5e7-4c5f-e674-a5c68c530324"
      },
      "outputs": [
        {
          "output_type": "stream",
          "name": "stdout",
          "text": [
            "¡Hola! Soy LaboraBot. Soy un prototipo de aplicación que busca ayudar a millones de mexicanos que han sufrido violencia y acoso laboral. Estoy aquí para proporcionarte información y apoyo en estos temas. Escribe algo para comenzar a chatear (escribe 'adiós' para salir).\n"
          ]
        }
      ],
      "source": [
        "import nltk\n",
        "from nltk.chat.util import Chat, reflections\n",
        "\n",
        "# Diccionario de respuestas\n",
        "pairs = [\n",
        "    # Preguntas frecuentes y respuestas\n",
        "    [\n",
        "        r\"mi nombre es (.*)\",\n",
        "        [\"Hola %1, ¿cómo estás hoy?\", ]\n",
        "    ],\n",
        "    [\n",
        "        r\"¿cuál es tu nombre?\",\n",
        "        [\"Mi nombre es LaboraBot, tu asistente laboral. Soy un prototipo de aplicación que busca ayudar a millones de mexicanos que han sufrido violencia y acoso laboral. Estoy aquí para proporcionarte información y apoyo en estos temas.\", ]\n",
        "    ],\n",
        "    [\n",
        "        r\"¿cómo estás?\",\n",
        "        [\"Estoy bien, gracias por preguntar. ¿Cómo estás tú?\", \"¡Estoy bien! ¿Cómo estás tú?\"]\n",
        "    ],\n",
        "    [\n",
        "        r\"bien|estoy bien\",\n",
        "        [\"¡Me alegra saber eso! ¿En qué puedo ayudarte hoy?\"]\n",
        "    ],\n",
        "    [\n",
        "        r\"mal|no estoy bien\",\n",
        "        [\"Lo siento mucho. Está bien no estar bien. La vida no es lineal y todos pasamos por altibajos. Es importante contar con una red de apoyo. Considera hablar con un profesional, como un psicólogo laboral, que puede ofrecerte el apoyo adecuado. ¿Quieres hablar sobre algo en particular o necesitas información adicional?\"]\n",
        "    ],\n",
        "    [\n",
        "        r\"no sé|no estoy seguro\",\n",
        "        [\"Está bien no estar seguro. ¿Quieres que hablemos sobre algo en particular? Estoy aquí para ayudarte.\"]\n",
        "    ],\n",
        "    [\n",
        "        r\"¿qué puedes hacer?\",\n",
        "        [\"Puedo proporcionarte información sobre temas laborales y regulaciones mexicanas. También puedo ayudarte a encontrar recursos útiles y conectarte con servicios de apoyo.\", ]\n",
        "    ],\n",
        "    [\n",
        "        r\"¿qué es la violencia laboral?\",\n",
        "        [\"La violencia laboral se refiere a comportamientos o acciones en el lugar de trabajo que pueden causar daño físico, psicológico o emocional. Puedes encontrar más información [aquí](https://www.ejemplo.com/violencia-laboral).\", ]\n",
        "    ],\n",
        "    [\n",
        "        r\"hola|buenas|buenos días|buenas tardes|buenas noches\",\n",
        "        [\"¡Hola, bienvenido a LaboraBot! ¿En qué te puedo ayudar hoy?\", \"¡Hola! Estoy aquí para ayudarte con temas laborales. ¿Cómo puedo asistirte?\"]\n",
        "    ],\n",
        "  #Buscar más psicologos y abogados para ayuda a las usuarias y usuarios\n",
        "    [\n",
        "        r\"quiero saber qué es el acoso laboral|¿qué es el acoso laboral\\??|qué es acoso laboral|quiero saber sobre acoso laboral\",\n",
        "        [\"El acoso laboral se refiere a actos o comportamientos que atentan contra la autoestima, salud, integridad, libertad o seguridad de las personas en el entorno laboral. Puedes leer más [aquí](https://www.ejemplo.com/acoso-laboral).\"]\n",
        "    ],\n",
        "    [\n",
        "        r\"qué hacer en caso de acoso laboral|¿qué hacer si sufro acoso laboral\\?|cómo actuar ante el acoso laboral|qué hago si me acosan en el trabajo\",\n",
        "        [\"En caso de acoso laboral, es importante documentar todos los incidentes, buscar apoyo en compañeros de confianza y reportar la situación a recursos humanos o autoridades competentes. Puedes encontrar una guía detallada [aquí](https://www.ejemplo.com/guia-acoso).\"]\n",
        "    ],\n",
        "    [\n",
        "        r\"¿cuáles son los tipos de acoso laboral\\?|tipos de acoso laboral|¿qué tipos de acoso laboral existen\\?\",\n",
        "        [\"Los tipos de acoso laboral incluyen acoso moral o psicológico, acoso sexual, discriminación, y acoso físico, entre otros. Lee más sobre ellos [aquí](https://www.ejemplo.com/tipos-acoso).\"]\n",
        "    ],\n",
        "    [\n",
        "        r\"¿qué es el acoso sexual en el trabajo\\?|¿qué se considera acoso sexual en el trabajo\\?|quiero saber qué es el acoso sexual laboral\",\n",
        "        [\"El acoso sexual en el trabajo es una forma de violencia en la que hay un ejercicio abusivo de poder que conlleva a un estado de indefensión para la víctima. Más detalles [aquí](https://www.ejemplo.com/acoso-sexual).\"]\n",
        "    ],\n",
        "    [\n",
        "        r\"¿cómo puedo reportar acoso laboral\\?|¿dónde reportar acoso laboral\\?|quiero reportar acoso laboral\",\n",
        "        [\"Puedes reportar acoso laboral al departamento de recursos humanos de tu empresa, a sindicatos o a organismos gubernamentales especializados. Encuentra más información [aquí](https://www.ejemplo.com/reportar-acoso).\"]\n",
        "    ],\n",
        "    [\n",
        "        r\"¿a dónde debo acudir a denunciar|dónde denunciar acoso laboral|dónde denunciar violencia laboral|dónde denunciar discriminación laboral\",\n",
        "        [\"Si sufres violencia o discriminación laboral, puedes acudir a PROFEDET. Para más detalles y asesoría, visita su [sitio web](https://www.ejemplo.com/profedet).\"]\n",
        "    ],\n",
        "    [\n",
        "        r\"¿qué dicen las leyes\\?|conforme a la ley federal del trabajo|qué dice la ley federal del trabajo\",\n",
        "        [\"Conforme a la Ley Federal del Trabajo de México, está prohibido acosar sexualmente o realizar actos inmorales en el lugar de trabajo. Más información [aquí](https://www.ejemplo.com/ley-federal).\"]\n",
        "    ],\n",
        "    [\n",
        "        r\"¿qué es el mobbing\\?|¿qué se entiende por mobbing\\?|quiero saber qué es el mobbing\",\n",
        "        [\"El mobbing es una forma de acoso laboral que implica persecución psicológica para excluir a una persona del entorno laboral. Más detalles [aquí](https://www.ejemplo.com/mobbing).\"]\n",
        "    ],\n",
        "    [\n",
        "        r\"¿dónde acudir si te despidieron injustificadamente\\?|¿a dónde puedo acudir si me despidieron sin motivo\\?|dónde denunciar despido injustificado\",\n",
        "        [\"Si fuiste despedido injustificadamente, puedes tramitar una queja ante la Procuraduría Federal de la Defensa del Trabajo (Profedet). Más información [aquí](https://www.ejemplo.com/despido-injustificado).\"]\n",
        "    ],\n",
        "    [\n",
        "        r\"renuncié a mi trabajo|renuncié voluntariamente\",\n",
        "        [\"Si renunciaste voluntariamente, tus derechos incluyen el pago proporcional de aguinaldo, vacaciones y prima vacacional. Si tienes más de 15 años de servicio, también tienes derecho a la prima de antigüedad. Más información [aquí](https://www.ejemplo.com/renuncia).\"]\n",
        "    ],\n",
        "    [\n",
        "        r\"¿qué se me debe pagar si fui despedido de mi trabajo\\?|qué me deben pagar si me despidieron\",\n",
        "        [\"En caso de despido, se te debe pagar una indemnización que incluye tres meses de salario, prima de antigüedad (si corresponde), vacaciones, prima vacacional y aguinaldo proporcional. Más detalles [aquí](https://www.ejemplo.com/pago-despido).\"]\n",
        "    ],\n",
        "    [\n",
        "        r\"adiós|hasta luego|nos vemos\",\n",
        "        [\"¡Adiós! Que tengas un buen día.\", \"Hasta luego, cuídate.\"]\n",
        "    ],\n",
        "    [\n",
        "        r\"quiero desahogarme|necesito desahogarme|quiero escribir en el diario\",\n",
        "        [\"Claro, puedes usar este espacio para desahogarte. Escribe lo que quieras y estaré aquí para escucharte. ¿Qué te preocupa o cómo te sientes hoy?\"]\n",
        "    ],\n",
        "    [\n",
        "        r\"diario\",\n",
        "        [\"Este es un espacio seguro donde puedes expresar tus sentimientos y pensamientos. Escribe aquí lo que quieras compartir y me aseguraré de escuchar y apoyarte. ¿Qué te gustaría escribir hoy?\"]\n",
        "    ]\n",
        "]\n",
        "\n",
        "# Inicializar el chat\n",
        "chat = Chat(pairs, reflections)\n",
        "\n",
        "def start_chat():\n",
        "    print(\"¡Hola! Soy LaboraBot. Soy un prototipo de aplicación que busca ayudar a millones de mexicanos que han sufrido violencia y acoso laboral. Estoy aquí para proporcionarte información y apoyo en estos temas. Escribe algo para comenzar a chatear (escribe 'adiós' para salir).\")\n",
        "    # Espacio para el diario\n",
        "    diary_entries = []\n",
        "    while True:\n",
        "        user_input = input(\"Tú: \")\n",
        "        if user_input.lower() in [\"adiós\", \"hasta luego\"]:\n",
        "            print(\"LaboraBot: ¡Adiós! Que tengas un buen día.\")\n",
        "            break\n",
        "        if \"diario\" in user_input.lower() or \"desahogarme\" in user_input.lower():\n",
        "            print(\"LaboraBot: Este es un espacio seguro donde puedes expresar tus sentimientos y pensamientos. Escribe aquí lo que quieras compartir y estaré aquí para escucharte.\")\n",
        "            entry = input(\"Escribe tu entrada en el diario: \")\n",
        "            diary_entries.append(entry)\n",
        "            print(\"LaboraBot: Gracias por compartir. Si necesitas hablar más o necesitas ayuda, aquí estoy para ti.\")\n",
        "        else:\n",
        "            response = chat.respond(user_input)\n",
        "            if response:\n",
        "                print(f\"LaboraBot: {response}\")\n",
        "            else:\n",
        "                print(\"LaboraBot: No estoy seguro de cómo responder a eso. ¿Hay algo más en lo que pueda ayudarte?\")\n",
        "\n",
        "if __name__ == \"__main__\":\n",
        "    start_chat()\n",
        "\n"
      ]
    }
  ]
}